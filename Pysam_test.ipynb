{
 "cells": [
  {
   "cell_type": "code",
   "execution_count": 1,
   "id": "2d9edc86",
   "metadata": {},
   "outputs": [
    {
     "name": "stdout",
     "output_type": "stream",
     "text": [
      "D0MBKACXX120224:2:2206:17237:35667\t99\t#20\t9483248\t27\t76M\t#20\t9483399\t227\tCTTTTCAAACAGTATCTATGCCTGCCAAATGTGAACATATAAAAAAAAACCAGAATGTGCCATTCTGATTTAAACT\tarray('B', [32, 33, 29, 29, 33, 37, 32, 37, 35, 40, 35, 41, 30, 31, 31, 41, 35, 30, 31, 39, 39, 38, 35, 41, 39, 38, 34, 36, 36, 31, 41, 31, 41, 33, 36, 40, 35, 31, 32, 31, 32, 36, 37, 36, 36, 36, 36, 36, 37, 40, 38, 35, 41, 34, 37, 31, 42, 31, 40, 38, 37, 33, 31, 31, 38, 36, 40, 34, 31, 34, 31, 30, 33, 30, 32, 33])\t[('XA', 'GL000217.1,-110755,76M,1;'), ('BD', 'NNNNNNNNNNNNNNNNNNNNNNNNNNNNNNNNNNNNNNNNNNNNNNNNNNNNNNNNNNNNNNNNNNNNNNNNNNNN'), ('MD', '76'), ('RG', '1'), ('BI', 'NNNNNNNNNNNNNNNNNNNNNNNNNNNNNNNNNNNNNNNNNNNNNNNNNNNNNNNNNNNNNNNNNNNNNNNNNNNN'), ('NM', 0), ('MQ', 27), ('AS', 76), ('XS', 71)]\n",
      "Total number of reads:  1717401 \n",
      "Number of unmaped reads:  0 \n",
      "Number of 0 maping quality reads:  79442 \n",
      "Maping quality averaged over all reads:  55.854162190426116 \n",
      "Maping quality averaged over nonzero quality reads:  58.563122764367115\n"
     ]
    }
   ],
   "source": [
    "import pysam\n",
    "samfile = pysam.AlignmentFile(\"Data/merged-normal.bam\", \"rb\")\n",
    "samfile.mapped\n",
    "sf=samfile.fetch()\n",
    "first_read=next(sf)\n",
    "print(first_read)\n",
    "dfr=first_read.to_dict()\n",
    "n_reads=1\n",
    "unmaped_reads=0\n",
    "n_mq_0_reads=0\n",
    "s_mq_reads=int(dfr['map_quality'])\n",
    "for x in sf:\n",
    "    xd=x.to_dict()\n",
    "    n_reads=n_reads+1\n",
    "    if xd['flag']=='4':\n",
    "        unmaped_reads=unmaped_reads+1\n",
    "    qms=int(xd['map_quality'])\n",
    "    if qms:\n",
    "        s_mq_reads=s_mq_reads+qms\n",
    "    else:\n",
    "        n_mq_0_reads=n_mq_0_reads+1\n",
    "print('Total number of reads: ', n_reads, \n",
    "      '\\nNumber of unmaped reads: ', unmaped_reads, \n",
    "      '\\nNumber of 0 maping quality reads: ', n_mq_0_reads,\n",
    "      '\\nMaping quality averaged over all reads: ', s_mq_reads/n_reads,\n",
    "      '\\nMaping quality averaged over nonzero quality reads: ', s_mq_reads/(n_reads-n_mq_0_reads))"
   ]
  },
  {
   "cell_type": "code",
   "execution_count": null,
   "id": "7ef072bd",
   "metadata": {},
   "outputs": [],
   "source": []
  }
 ],
 "metadata": {
  "kernelspec": {
   "display_name": "Python 3 (ipykernel)",
   "language": "python",
   "name": "python3"
  },
  "language_info": {
   "codemirror_mode": {
    "name": "ipython",
    "version": 3
   },
   "file_extension": ".py",
   "mimetype": "text/x-python",
   "name": "python",
   "nbconvert_exporter": "python",
   "pygments_lexer": "ipython3",
   "version": "3.8.10"
  }
 },
 "nbformat": 4,
 "nbformat_minor": 5
}
